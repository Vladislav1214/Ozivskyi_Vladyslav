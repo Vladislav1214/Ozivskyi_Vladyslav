{
 "cells": [
  {
   "cell_type": "markdown",
   "id": "a61a1684-4b2d-43e2-a6d8-db415d294b22",
   "metadata": {},
   "source": [
    "Завантажив і встановив збірку Python Anaconda"
   ]
  },
  {
   "cell_type": "markdown",
   "id": "a498ac88-52f6-4a50-b4bb-a4897682b206",
   "metadata": {},
   "source": [
    "![Збірка Python Anaconda](Pictures/1.PNG)"
   ]
  },
  {
   "cell_type": "markdown",
   "id": "34cd220a-9ced-4306-b3b8-bc60cf7c9cd7",
   "metadata": {},
   "source": [
    "Налагодив за допомогою conda віртуальне середовище з ім’ям (Ozivskyi_OpenCV)"
   ]
  },
  {
   "cell_type": "markdown",
   "id": "a810f4f1-6b06-482c-b7f8-c48bc30da1aa",
   "metadata": {},
   "source": [
    "![Віртуальне середовище](Pictures/2.PNG)"
   ]
  },
  {
   "cell_type": "markdown",
   "id": "55f417e6-2fd8-4940-8842-06832c0654db",
   "metadata": {},
   "source": [
    "Встановив OpenCV (conda install -c conda-forge opencv)"
   ]
  },
  {
   "cell_type": "markdown",
   "id": "dee59ff6-2abd-44b3-9491-8e5a3ca5a9a6",
   "metadata": {},
   "source": [
    "![Встановлення OpenCV](Pictures/3.PNG)"
   ]
  }
 ],
 "metadata": {
  "kernelspec": {
   "display_name": "Python 3 (ipykernel)",
   "language": "python",
   "name": "python3"
  },
  "language_info": {
   "codemirror_mode": {
    "name": "ipython",
    "version": 3
   },
   "file_extension": ".py",
   "mimetype": "text/x-python",
   "name": "python",
   "nbconvert_exporter": "python",
   "pygments_lexer": "ipython3",
   "version": "3.13.2"
  }
 },
 "nbformat": 4,
 "nbformat_minor": 5
}
